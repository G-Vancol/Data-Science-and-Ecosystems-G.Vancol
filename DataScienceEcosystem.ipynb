{
 "cells": [
  {
   "cell_type": "markdown",
   "id": "21676c25-58b5-490a-a063-1a22f9ba2b5e",
   "metadata": {},
   "source": [
    "# Data Science Tools and Ecosystem\n",
    "In this notebook, Data Science Tools and Ecosystems are summarized:"
   ]
  },
  {
   "cell_type": "markdown",
   "id": "b6007a2d-8a56-4660-aadc-9f3c73a32c70",
   "metadata": {},
   "source": [
    "## Objectives\n",
    "- Pandas: Pandas is a powerful library for data manipulation and analysis. It offers data structures like DataFrames and Series, which allow for easy handling and manipulation of structured data. Pandas provides functions for data cleaning, merging, reshaping, and more.\n",
    "- Fork the Repository: Start by forking the repository you want to contribute to. This creates a copy of the repository under your GitHub account.\n",
    "- GitHub provides a comprehensive set of features and tools that support collaboration, version control, code review, and issue tracking, making it a powerful platform for source code management.\n",
    "- ggplot is great for creating static and highly customizable visualizations within RStudio, while Plotly is ideal for creating interactive and dynamic visualizations that can be displayed in web browsers or saved as HTML files. \n",
    "- An API is a set of rules and protocols that allows different software applications to communicate with each other."
   ]
  },
  {
   "cell_type": "markdown",
   "id": "d9c94d9a-4db3-4db5-9574-26a1f0f647f3",
   "metadata": {},
   "source": [
    "# Some of the popular languages that Data Scientist use are:\n",
    "1. Forks\n",
    "2. R Studio\n",
    "3. Python Library\n"
   ]
  },
  {
   "cell_type": "markdown",
   "id": "9b2045e7-5350-4130-9832-b496bbf5b32f",
   "metadata": {},
   "source": [
    "# Some of the commonly used libraries used by Data Scientist include:\n",
    "1. Matplotlib\n",
    "2. Seaborn\n",
    "3. Numpy"
   ]
  },
  {
   "cell_type": "markdown",
   "id": "0a999062-d7de-445e-b34b-27caa71cbead",
   "metadata": {},
   "source": [
    "# Below are a few examples of evaluating arithmetic expressions in Python.\n"
   ]
  },
  {
   "cell_type": "markdown",
   "id": "fe3dec53-b884-45c5-960c-172b7f91e973",
   "metadata": {},
   "source": [
    "#### This is a simple arithmetic expression to multiply then add integers."
   ]
  },
  {
   "cell_type": "code",
   "execution_count": 18,
   "id": "87c7bf70-481c-4604-aace-56ad2c06924d",
   "metadata": {
    "tags": []
   },
   "outputs": [
    {
     "name": "stdout",
     "output_type": "stream",
     "text": [
      "[1] 17\n"
     ]
    }
   ],
   "source": [
    "w <- 3\n",
    "x <- 4\n",
    "y <- 5\n",
    "z <- (w * x)+5\n",
    "print (z)"
   ]
  },
  {
   "cell_type": "markdown",
   "id": "00819dd1-7ec3-430c-9d72-fada165be94b",
   "metadata": {},
   "source": [
    "#### This will convert 200 minutes to hours by dividing by 60."
   ]
  },
  {
   "cell_type": "code",
   "execution_count": 20,
   "id": "76ac6f38-c488-479b-92b8-64bdff10366f",
   "metadata": {
    "tags": []
   },
   "outputs": [
    {
     "name": "stdout",
     "output_type": "stream",
     "text": [
      "[1] 3.333333\n"
     ]
    }
   ],
   "source": [
    "x <- 200\n",
    "y <- 60\n",
    "z <- x/y\n",
    "print (z)"
   ]
  },
  {
   "cell_type": "markdown",
   "id": "686ad237-85d9-4461-ae66-9c2135b4597f",
   "metadata": {},
   "source": [
    "## Lakshmi Holla and Niveditha Pandith"
   ]
  }
 ],
 "metadata": {
  "kernelspec": {
   "display_name": "R",
   "language": "R",
   "name": "conda-env-r-r"
  },
  "language_info": {
   "codemirror_mode": "r",
   "file_extension": ".r",
   "mimetype": "text/x-r-source",
   "name": "R",
   "pygments_lexer": "r",
   "version": "3.5.1"
  }
 },
 "nbformat": 4,
 "nbformat_minor": 5
}
